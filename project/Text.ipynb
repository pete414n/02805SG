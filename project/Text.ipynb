{
 "cells": [
  {
   "cell_type": "code",
   "execution_count": null,
   "id": "61f8d85f",
   "metadata": {},
   "outputs": [],
   "source": [
    "import os\n",
    "import nltk\n",
    "import csv\n",
    "\n",
    "import math\n",
    "\n",
    "import matplotlib.pyplot as plt\n",
    "\n",
    "\n",
    "from nltk import word_tokenize, FreqDist\n",
    "from nltk.corpus import stopwords\n",
    "from wordcloud import WordCloud\n",
    "\n",
    "from bs4 import BeautifulSoup\n",
    "from community import community_louvain\n",
    "from fa2 import ForceAtlas2"
   ]
  },
  {
   "cell_type": "code",
   "execution_count": null,
   "id": "f5658f33",
   "metadata": {},
   "outputs": [],
   "source": [
    "characters = []\n",
    "\n",
    "# Get characters and communities, according to fandom graph\n",
    "with open(\"communities_from_fandom.csv\", \"r\", encoding=\"utf8\") as sent_file:\n",
    "    csv = csv.reader(sent_file, delimiter=\",\")\n",
    "    for row in csv:\n",
    "        name = row[0]\n",
    "        community = row[1]\n",
    "        characters.append((name, community))"
   ]
  },
  {
   "cell_type": "code",
   "execution_count": null,
   "id": "ec96e22c",
   "metadata": {},
   "outputs": [],
   "source": [
    "import csv\n",
    "# Create an empty list to store tuples of words and their \n",
    "# average happiness score\n",
    "sent_list = []\n",
    "\n",
    "# Read in the .tsv file\n",
    "with open(\"LabMT1.0.tsv\", \"r\", encoding=\"utf8\") as sent_file:\n",
    "    tsv_reader = csv.DictReader(sent_file, delimiter=\"\\t\")\n",
    "    # For each sentiment in the file, save the word and average happiness in a tuple\n",
    "    # and add it to the list\n",
    "    for sent in tsv_reader:\n",
    "        word = sent[\"word\"]\n",
    "        average = sent[\"happiness_average\"]\n",
    "        sent_list.append((word, average))"
   ]
  },
  {
   "cell_type": "markdown",
   "id": "a95908c1",
   "metadata": {},
   "source": [
    "## Calculating sentiment for characters by chapter"
   ]
  },
  {
   "cell_type": "code",
   "execution_count": null,
   "id": "5d060c98",
   "metadata": {},
   "outputs": [],
   "source": [
    "# Defining function to calculate sentiment for a list of tokens\n",
    "# Function for calculating the sentiment of a file from the frequency distribution for that file\n",
    "def sentiment(tokens):\n",
    "    # Total sentiment score of file\n",
    "    sent_sum = 0.0\n",
    "    # Total number of occurences of words\n",
    "    occ_sum = 0\n",
    "    \n",
    "    # For each token and associated number of occurences\n",
    "    for token, occ in tokens.items():\n",
    "        # If the token is in the given list of words with rated happiness\n",
    "        for word, score in sent_list:\n",
    "            if token == word:\n",
    "                sent_sum += (float(score) * occ)\n",
    "                occ_sum += occ\n",
    "    return sent_sum / occ_sum"
   ]
  },
  {
   "cell_type": "code",
   "execution_count": null,
   "id": "8695d095",
   "metadata": {},
   "outputs": [],
   "source": [
    "# Finding sentiment from a concordance list\n",
    "def con_sentiment(con_list):\n",
    "    sent_sum = 0\n",
    "    line_num = 0\n",
    "    for item in con_list:\n",
    "        # Make left and right into one list\n",
    "        left = [ch.lower() for ch in item.left if ch.isalpha()]\n",
    "        right = [ch.lower() for ch in item.right if ch.isalpha()]\n",
    "        combined = left + right\n",
    "        # Make freqDist, just in case\n",
    "        fd = nltk.FreqDist(combined)\n",
    "        sent_sum += sentiment(fd)\n",
    "        line_num += 1\n",
    "    return sent_sum / line_num"
   ]
  },
  {
   "cell_type": "markdown",
   "id": "102e7726",
   "metadata": {},
   "source": [
    "### Example start"
   ]
  },
  {
   "cell_type": "code",
   "execution_count": null,
   "id": "7c5818a8",
   "metadata": {},
   "outputs": [],
   "source": [
    "# Reading in the test text\n",
    "f = open('test1.txt')\n",
    "raw = f.read()\n",
    "tokens = nltk.wordpunct_tokenize(raw)\n",
    "text = nltk.Text(tokens)"
   ]
  },
  {
   "cell_type": "code",
   "execution_count": null,
   "id": "c5107d41",
   "metadata": {},
   "outputs": [],
   "source": [
    "text.dispersion_plot([\"Harry\", \"Dudley\", \"Mr\", \"Mrs\", \"Dursley\", \"Dumbledore\", \"Voldemort\"])"
   ]
  },
  {
   "cell_type": "code",
   "execution_count": null,
   "id": "ffb624f8",
   "metadata": {},
   "outputs": [],
   "source": [
    "harry_con = text.concordance_list(\"Harry\")\n",
    "dursley_con = text.concordance_list(\"Dursley\")\n",
    "dumble_con = text.concordance_list(\"Dumbledore\")\n",
    "volde_con = text.concordance_list(\"Voldemort\")\n",
    "\n",
    "cons = [harry_con, dursley_con, dumble_con, volde_con]\n",
    "\n",
    "# harry_con, type list\n",
    "# harry_con[0], type ConcodanceLine\n",
    "# harry_con[0].left, list of tokens appearing to the left\n",
    "# harry_con[0].right, list of tokens appearing to the right\n",
    "\n",
    "# nltk.FreqDist(harry_con[0].left)"
   ]
  },
  {
   "cell_type": "code",
   "execution_count": null,
   "id": "551bd4cc",
   "metadata": {},
   "outputs": [],
   "source": [
    "#sentiment(nltk.FreqDist(harry_con[0].left))\n",
    "#print(harry_con[0].left)\n",
    "fd = nltk.FreqDist(harry_con[0].left)\n",
    "#sentiment(fd)\n",
    "left = [ch.lower() for ch in harry_con[0].left if ch.isalpha()]\n",
    "right = [ch.lower() for ch in harry_con[0].right if ch.isalpha()]\n",
    "combined = left + right\n"
   ]
  },
  {
   "cell_type": "code",
   "execution_count": null,
   "id": "72e17293",
   "metadata": {},
   "outputs": [],
   "source": [
    "# Testing con_sentiment\n",
    "for con in cons:\n",
    "    print(con_sentiment(con))"
   ]
  }
 ],
 "metadata": {
  "kernelspec": {
   "display_name": "Python 3 (ipykernel)",
   "language": "python",
   "name": "python3"
  },
  "language_info": {
   "codemirror_mode": {
    "name": "ipython",
    "version": 3
   },
   "file_extension": ".py",
   "mimetype": "text/x-python",
   "name": "python",
   "nbconvert_exporter": "python",
   "pygments_lexer": "ipython3",
   "version": "3.10.8"
  }
 },
 "nbformat": 4,
 "nbformat_minor": 5
}
