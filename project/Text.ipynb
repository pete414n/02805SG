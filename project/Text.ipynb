{
 "cells": [
  {
   "cell_type": "code",
   "execution_count": 5,
   "id": "00db1fc2",
   "metadata": {},
   "outputs": [],
   "source": [
    "import os\n",
    "import nltk\n",
    "import csv\n",
    "from matplotlib.pyplot import cm\n",
    "import numpy as np\n",
    "from nltk.corpus import stopwords\n",
    "import math\n",
    "\n",
    "import matplotlib.pyplot as plt\n",
    "\n",
    "\n",
    "from nltk import word_tokenize, FreqDist\n",
    "from nltk.corpus import stopwords\n",
    "from wordcloud import WordCloud\n",
    "\n",
    "from bs4 import BeautifulSoup\n",
    "from community import community_louvain\n",
    "from fa2 import ForceAtlas2"
   ]
  },
  {
   "cell_type": "code",
   "execution_count": 6,
   "id": "14549f0a",
   "metadata": {},
   "outputs": [],
   "source": [
    "characters = []\n",
    "\n",
    "# Get characters and communities, according to fandom graph\n",
    "with open(\"communities_from_fandom.csv\", \"r\", encoding=\"utf8\") as sent_file:\n",
    "    csv = csv.reader(sent_file, delimiter=\",\")\n",
    "    for row in csv:\n",
    "        name = row[0]\n",
    "        community = row[1]\n",
    "        characters.append((name, community))"
   ]
  },
  {
   "cell_type": "code",
   "execution_count": 9,
   "id": "1084f08b",
   "metadata": {},
   "outputs": [],
   "source": [
    "import csv\n",
    "# Create an empty list to store tuples of words and their \n",
    "# average happiness score\n",
    "sent_list = []\n",
    "\n",
    "# Read in the .tsv file\n",
    "with open(\"LabMT1.0.tsv\", \"r\", encoding=\"utf8\") as sent_file:\n",
    "    tsv_reader = csv.DictReader(sent_file, delimiter=\"\\t\")\n",
    "    # For each sentiment in the file, save the word and average happiness in a tuple\n",
    "    # and add it to the list\n",
    "    for sent in tsv_reader:\n",
    "        word = sent[\"word\"]\n",
    "        average = sent[\"happiness_average\"]\n",
    "        sent_list.append((word, average))"
   ]
  },
  {
   "cell_type": "markdown",
   "id": "1ac250e9",
   "metadata": {},
   "source": [
    "## Calculating sentiment for characters by chapter"
   ]
  },
  {
   "cell_type": "code",
   "execution_count": 10,
   "id": "0392883b",
   "metadata": {},
   "outputs": [],
   "source": [
    "# Defining function to calculate sentiment for a list of tokens\n",
    "# Function for calculating the sentiment of a file from the frequency distribution for that file\n",
    "def sentiment(tokens):\n",
    "    # Total sentiment score of file\n",
    "    sent_sum = 0.0\n",
    "    # Total number of occurences of words\n",
    "    occ_sum = 0\n",
    "    \n",
    "    # For each token and associated number of occurences\n",
    "    for token, occ in tokens.items():\n",
    "        # If the token is in the given list of words with rated happiness\n",
    "        for word, score in sent_list:\n",
    "            if token == word:\n",
    "                sent_sum += (float(score) * occ)\n",
    "                occ_sum += occ\n",
    "    return sent_sum / occ_sum"
   ]
  },
  {
   "cell_type": "code",
   "execution_count": 3,
   "id": "a9ccfb83",
   "metadata": {},
   "outputs": [],
   "source": [
    "# Finding sentiment from a concordance list\n",
    "def con_sentiment(con_list):\n",
    "    sent_sum = 0\n",
    "    line_num = 0\n",
    "    for item in con_list:\n",
    "        # Make left and right into one list\n",
    "        left = [ch.lower() for ch in item.left if ch.isalpha()]\n",
    "        right = [ch.lower() for ch in item.right if ch.isalpha()]\n",
    "        combined = left + right\n",
    "        #combined = [w for w in (left + right) if w not in stopwords]\n",
    "        # Make freqDist, just in case\n",
    "        fd = nltk.FreqDist(combined)\n",
    "        sent_sum += sentiment(fd)\n",
    "        line_num += 1\n",
    "    if line_num == 0:\n",
    "        return 0 # Character had no appearences in chapter\n",
    "    return sent_sum / line_num"
   ]
  },
  {
   "cell_type": "code",
   "execution_count": 11,
   "id": "4e7217c1",
   "metadata": {},
   "outputs": [],
   "source": [
    "stopwords = nltk.corpus.stopwords.words('english')"
   ]
  },
  {
   "cell_type": "code",
   "execution_count": 14,
   "id": "e15e7dde",
   "metadata": {
    "scrolled": true
   },
   "outputs": [
    {
     "data": {
      "image/png": "[encoded data removed]",
      "text/plain": [
       "<Figure size 750x350 with 1 Axes>"
      ]
     },
     "metadata": {},
     "output_type": "display_data"
    },
    {
     "name": "stdout",
     "output_type": "stream",
     "text": [
      "[('Harry', [5.397649928774929, 5.344963744202935, 5.2324888949648605, 5.404338683266375, 5.283605159472294, 5.257208959590566, 5.305850990224461, 5.334875527226286, 5.309913575215868, 5.309522891632804, 5.261747588693719, 5.291939877742987, 5.168959280915589, 5.3215217482727155, 5.308059448612689, 5.2797138196554965, 5.246893187337561, 5.294227842321227, 5.2434566099021485, 5.247121095055845, 5.234258234089545, 5.286253962972616, 5.451062777636221, 5.310138059932046, 5.344034039934441, 5.159199503076947, 5.25447501744488, 5.186253327391714, 5.320896054522633, 5.186274051150683, 5.403166405208098, 5.386258421193555, 5.286767102707939, 5.294551418900221, 5.369689532113257, 5.457267885023182, 5.324850190825776]), ('Dumbledore', [0, 5.308354603965638, 5.34993050544227, 5.213409209047796, 5.290380952380953, 5.285707534673524, 5.335819483246742, 5.302208571491008, 5.230572352216749, 5.330889023768168, 5.260452853598014, 5.278516818217131, 5.283222677023128, 5.492727272727272, 5.264351874783358, 5.066728395061729, 5.259944258924668, 5.034271284705042, 5.449032258064516, 5.122434437321938, 5.347269702519703, 5.271066801605171, 5.275185185185185, 5.326694568222604, 5.274583114349419, 5.236355555555556, 5.3463296324350225, 5.191560417280847, 5.326375054211211, 5.160110861955817, 0, 5.264285714285714, 5.383584540741063, 5.222698734928516, 5.352581816114698, 5.299663726152128, 5.11012173171656])]\n"
     ]
    }
   ],
   "source": [
    "# Assuming we have a list of the character names as we expect they appear\n",
    "# Assuming we have the chapters each book as .txt files\n",
    "char_list = [\"Harry\", \"Dumbledore\"] # List of character names as they appear\n",
    "\n",
    "# Assuming folder structure books/book_n/chapter_n.txt\n",
    "chapters = os.listdir(\"B7\")\n",
    "\n",
    "# Making a data table (char_list)x(num_chapters) to hold sentiments for each char in each chap\n",
    "# tuple list with tuples (character, [sent chapter1, sent chapter2, ...])\n",
    "sentiment_by_character = []\n",
    "\n",
    "for character in char_list:\n",
    "    sentiments = []\n",
    "    for chapter in chapters:\n",
    "        f = open(\"B7/\" + chapter)\n",
    "        raw = f.read()\n",
    "        tokens = nltk.wordpunct_tokenize(raw)\n",
    "        text = nltk.Text(tokens)\n",
    "        con = text.concordance_list(character)\n",
    "        sentiments.append(con_sentiment(con))\n",
    "    sentiment_by_character.append((character, sentiments))\n",
    "\n",
    "plt.rcParams[\"figure.figsize\"] = [7.50, 3.50]\n",
    "plt.rcParams[\"figure.autolayout\"] = True\n",
    "\n",
    "# https://stackoverflow.com/questions/4971269/how-to-pick-a-new-color-for-each-plotted-line-within-a-figure-in-matplotlib\n",
    "color = iter(cm.rainbow(np.linspace(0, 1, len(char_list))))\n",
    "\n",
    "# If a character does not appear in a chapter, the sentiment becomes 0. \n",
    "# To mitigate this, we set these chapters to have the sentiment of the previous\n",
    "# otherwise these 0 drowns a lot of the difference\n",
    "\n",
    "for name, sentiments in sentiment_by_character:\n",
    "    c = next(color)\n",
    "    plt.plot(sentiments, c=c, label=name)\n",
    "\n",
    "plt.legend()\n",
    "plt.show()\n",
    "\n",
    "print(sentiment_by_character)"
   ]
  },
  {
   "cell_type": "markdown",
   "id": "feab9b59",
   "metadata": {},
   "source": [
    "### Example start"
   ]
  },
  {
   "cell_type": "code",
   "execution_count": null,
   "id": "4ace6bf7",
   "metadata": {},
   "outputs": [],
   "source": [
    "# Reading in the test text\n",
    "f = open('test1.txt')\n",
    "raw = f.read()\n",
    "tokens = nltk.wordpunct_tokenize(raw)\n",
    "text = nltk.Text(tokens)"
   ]
  },
  {
   "cell_type": "code",
   "execution_count": null,
   "id": "413799b9",
   "metadata": {},
   "outputs": [],
   "source": [
    "text.dispersion_plot([\"Harry\", \"Dudley\", \"Mr\", \"Mrs\", \"Dursley\", \"Dumbledore\", \"Voldemort\"])"
   ]
  },
  {
   "cell_type": "code",
   "execution_count": null,
   "id": "7fc38ce1",
   "metadata": {},
   "outputs": [],
   "source": [
    "harry_con = text.concordance_list(\"Harry\")\n",
    "dursley_con = text.concordance_list(\"Dursley\")\n",
    "dumble_con = text.concordance_list(\"Dumbledore\")\n",
    "volde_con = text.concordance_list(\"Voldemort\")\n",
    "\n",
    "cons = [harry_con, dursley_con, dumble_con, volde_con]\n",
    "\n",
    "# harry_con, type list\n",
    "# harry_con[0], type ConcodanceLine\n",
    "# harry_con[0].left, list of tokens appearing to the left\n",
    "# harry_con[0].right, list of tokens appearing to the right\n",
    "\n",
    "# nltk.FreqDist(harry_con[0].left)\n",
    "\n",
    "for con in harry_con:\n",
    "    print(con.left)\n",
    "    print()"
   ]
  },
  {
   "cell_type": "code",
   "execution_count": null,
   "id": "5d1f7e86",
   "metadata": {},
   "outputs": [],
   "source": [
    "#sentiment(nltk.FreqDist(harry_con[0].left))\n",
    "#print(harry_con[0].left)\n",
    "fd = nltk.FreqDist(harry_con[0].left)\n",
    "#sentiment(fd)\n",
    "left = [ch.lower() for ch in harry_con[0].left if ch.isalpha()]\n",
    "right = [ch.lower() for ch in harry_con[0].right if ch.isalpha()]\n",
    "combined = left + right\n"
   ]
  },
  {
   "cell_type": "code",
   "execution_count": null,
   "id": "6953fc45",
   "metadata": {},
   "outputs": [],
   "source": [
    "# Testing con_sentiment\n",
    "for con in cons:\n",
    "    print(con_sentiment(con))"
   ]
  }
 ],
 "metadata": {
  "kernelspec": {
   "display_name": "Python 3 (ipykernel)",
   "language": "python",
   "name": "python3"
  },
  "language_info": {
   "codemirror_mode": {
    "name": "ipython",
    "version": 3
   },
   "file_extension": ".py",
   "mimetype": "text/x-python",
   "name": "python",
   "nbconvert_exporter": "python",
   "pygments_lexer": "ipython3",
   "version": "3.10.8"
  }
 },
 "nbformat": 4,
 "nbformat_minor": 5
}
