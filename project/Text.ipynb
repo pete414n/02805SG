{
 "cells": [
  {
   "cell_type": "code",
   "execution_count": 38,
   "id": "fba6d990",
   "metadata": {},
   "outputs": [],
   "source": [
    "import os\n",
    "import nltk\n",
    "import csv\n",
    "from matplotlib.pyplot import cm\n",
    "import numpy as np\n",
    "from nltk.corpus import stopwords\n",
    "import math\n",
    "\n",
    "import matplotlib.pyplot as plt\n",
    "\n",
    "\n",
    "from nltk import word_tokenize, FreqDist\n",
    "from nltk.corpus import stopwords\n",
    "from wordcloud import WordCloud\n",
    "\n",
    "from bs4 import BeautifulSoup\n",
    "from community import community_louvain\n",
    "from fa2 import ForceAtlas2"
   ]
  },
  {
   "cell_type": "code",
   "execution_count": 39,
   "id": "64a65e8b",
   "metadata": {},
   "outputs": [],
   "source": [
    "characters = []\n",
    "\n",
    "# Get characters and communities, according to fandom graph\n",
    "with open(\"communities_from_fandom.csv\", \"r\", encoding=\"utf8\") as sent_file:\n",
    "    csv = csv.reader(sent_file, delimiter=\",\")\n",
    "    for row in csv:\n",
    "        name = row[0]\n",
    "        community = row[1]\n",
    "        characters.append((name, community))"
   ]
  },
  {
   "cell_type": "code",
   "execution_count": 40,
   "id": "e3ce8113",
   "metadata": {},
   "outputs": [],
   "source": [
    "import csv\n",
    "# Create an empty list to store tuples of words and their \n",
    "# average happiness score\n",
    "sent_list = []\n",
    "\n",
    "# Read in the .tsv file\n",
    "with open(\"LabMT1.0.tsv\", \"r\", encoding=\"utf8\") as sent_file:\n",
    "    tsv_reader = csv.DictReader(sent_file, delimiter=\"\\t\")\n",
    "    # For each sentiment in the file, save the word and average happiness in a tuple\n",
    "    # and add it to the list\n",
    "    for sent in tsv_reader:\n",
    "        word = sent[\"word\"]\n",
    "        average = sent[\"happiness_average\"]\n",
    "        sent_list.append((word, average))"
   ]
  },
  {
   "cell_type": "markdown",
   "id": "cc951857",
   "metadata": {},
   "source": [
    "## Calculating sentiment for characters by chapter"
   ]
  },
  {
   "cell_type": "code",
   "execution_count": 41,
   "id": "a981ee5b",
   "metadata": {},
   "outputs": [],
   "source": [
    "# Defining function to calculate sentiment for a list of tokens\n",
    "# Function for calculating the sentiment of a file from the frequency distribution for that file\n",
    "def sentiment(tokens):\n",
    "    # Total sentiment score of file\n",
    "    sent_sum = 0.0\n",
    "    # Total number of occurences of words\n",
    "    occ_sum = 0\n",
    "    \n",
    "    # For each token and associated number of occurences\n",
    "    for token, occ in tokens.items():\n",
    "        # If the token is in the given list of words with rated happiness\n",
    "        for word, score in sent_list:\n",
    "            if token == word:\n",
    "                sent_sum += (float(score) * occ)\n",
    "                occ_sum += occ\n",
    "    return sent_sum / occ_sum"
   ]
  },
  {
   "cell_type": "code",
   "execution_count": 46,
   "id": "f62d31b4",
   "metadata": {},
   "outputs": [],
   "source": [
    "# Finding sentiment from a concordance list\n",
    "def con_sentiment(con_list):\n",
    "    sent_sum = 0\n",
    "    line_num = 0\n",
    "    for item in con_list:\n",
    "        # Make left and right into one list\n",
    "        left = [ch.lower() for ch in item.left if ch.isalpha()]\n",
    "        right = [ch.lower() for ch in item.right if ch.isalpha()]\n",
    "        combined = left + right\n",
    "        #combined = [w for w in (left + right) if w not in stopwords]\n",
    "        # Make freqDist, just in case\n",
    "        fd = nltk.FreqDist(combined)\n",
    "        sent_sum += sentiment(fd)\n",
    "        line_num += 1\n",
    "    if line_num == 0:\n",
    "        return 0 # Character had no appearences in chapter\n",
    "    return sent_sum / line_num"
   ]
  },
  {
   "cell_type": "code",
   "execution_count": 44,
   "id": "090bd6ef",
   "metadata": {},
   "outputs": [],
   "source": [
    "stopwords = nltk.corpus.stopwords.words('english')"
   ]
  },
  {
   "cell_type": "code",
   "execution_count": 50,
   "id": "f35336ea",
   "metadata": {
    "scrolled": true
   },
   "outputs": [
    {
     "data": {
      "image/png": "[encoded data removed]",
      "text/plain": [
       "<Figure size 750x350 with 1 Axes>"
      ]
     },
     "metadata": {},
     "output_type": "display_data"
    },
    {
     "name": "stdout",
     "output_type": "stream",
     "text": [
      "[('Harry', [5.375511877431059, 5.389341527937704, 5.369517925069885, 5.395145458790369])]\n"
     ]
    }
   ],
   "source": [
    "# Assuming we have a list of the character names as we expect they appear\n",
    "# Assuming we have the chapters each book as .txt files\n",
    "char_list = [\"Harry\"] # List of character names as they appear\n",
    "\n",
    "# Assuming folder structure books/book_n/chapter_n.txt\n",
    "chapters = [\"test1.txt\", \"test2.txt\", \"test3.txt\", \"test4.txt\"] # os.listdir(books/book_n)\n",
    "\n",
    "# Making a data table (char_list)x(num_chapters) to hold sentiments for each char in each chap\n",
    "# tuple list with tuples (character, [sent chapter1, sent chapter2, ...])\n",
    "sentiment_by_character = []\n",
    "\n",
    "for character in char_list:\n",
    "    sentiments = []\n",
    "    for chapter in chapters:\n",
    "        f = open(chapter)\n",
    "        raw = f.read()\n",
    "        tokens = nltk.wordpunct_tokenize(raw)\n",
    "        text = nltk.Text(tokens)\n",
    "        con = text.concordance_list(character)\n",
    "        sentiments.append(con_sentiment(con))\n",
    "    sentiment_by_character.append((character, sentiments))\n",
    "\n",
    "plt.rcParams[\"figure.figsize\"] = [7.50, 3.50]\n",
    "plt.rcParams[\"figure.autolayout\"] = True\n",
    "\n",
    "# https://stackoverflow.com/questions/4971269/how-to-pick-a-new-color-for-each-plotted-line-within-a-figure-in-matplotlib\n",
    "color = iter(cm.rainbow(np.linspace(0, 1, len(char_list))))\n",
    "\n",
    "for name, sentiments in sentiment_by_character:\n",
    "    c = next(color)\n",
    "    plt.plot(sentiments, c=c, label=name)\n",
    "\n",
    "plt.legend()\n",
    "plt.show()\n",
    "\n",
    "print(sentiment_by_character)"
   ]
  },
  {
   "cell_type": "markdown",
   "id": "6e3b9ade",
   "metadata": {},
   "source": [
    "### Example start"
   ]
  },
  {
   "cell_type": "code",
   "execution_count": 12,
   "id": "1fe4ba86",
   "metadata": {},
   "outputs": [],
   "source": [
    "# Reading in the test text\n",
    "f = open('test1.txt')\n",
    "raw = f.read()\n",
    "tokens = nltk.wordpunct_tokenize(raw)\n",
    "text = nltk.Text(tokens)"
   ]
  },
  {
   "cell_type": "code",
   "execution_count": null,
   "id": "f05620e1",
   "metadata": {},
   "outputs": [],
   "source": [
    "text.dispersion_plot([\"Harry\", \"Dudley\", \"Mr\", \"Mrs\", \"Dursley\", \"Dumbledore\", \"Voldemort\"])"
   ]
  },
  {
   "cell_type": "code",
   "execution_count": 18,
   "id": "4d67263e",
   "metadata": {},
   "outputs": [
    {
     "name": "stdout",
     "output_type": "stream",
     "text": [
      "['The', 'Potters', ',', 'that', \"'\", 's', 'right', ',', 'that', \"'\", 's', 'what', 'I', 'heard', 'yes', ',', 'their', 'son', ',']\n",
      "\n",
      "['an', 'unusual', 'name', '.', 'He', 'was', 'sure', 'there', 'were', 'lots', 'of', 'people', 'called', 'Potter', 'who', 'had', 'a', 'son', 'called']\n",
      "\n",
      "['called', 'Harry', '.', 'Come', 'to', 'think', 'of', 'it', ',', 'he', 'wasn', \"'\", 't', 'even', 'sure', 'his', 'nephew', 'was', 'called']\n",
      "\n",
      "['Dursley', 'stiffly', '.', '\"', 'What', \"'\", 's', 'his', 'name', 'again', '?', 'Howard', ',', 'isn', \"'\", 't', 'it', '?\"', '\"']\n",
      "\n",
      "[\"'\", 's', 'not', 'all', '.', 'They', \"'\", 're', 'saying', 'he', 'tried', 'to', 'kill', 'the', 'Potter', \"'\", 's', 'son', ',']\n",
      "\n",
      "['one', 'knows', 'why', ',', 'or', 'how', ',', 'but', 'they', \"'\", 're', 'saying', 'that', 'when', 'he', 'couldn', \"'\", 't', 'kill']\n",
      "\n",
      "['just', 'astounding', '...', 'of', 'all', 'the', 'things', 'to', 'stop', 'him', '...', 'but', 'how', 'in', 'the', 'name', 'of', 'heaven', 'did']\n",
      "\n",
      "['tell', 'me', 'why', 'you', \"'\", 're', 'here', ',', 'of', 'all', 'places', '?\"', '\"', 'I', \"'\", 've', 'come', 'to', 'bring']\n",
      "\n",
      "['son', '--', 'I', 'saw', 'him', 'kicking', 'his', 'mother', 'all', 'the', 'way', 'up', 'the', 'street', ',', 'screaming', 'for', 'sweets', '.']\n",
      "\n",
      "[\"'\", 'll', 'be', 'famous', '--', 'a', 'legend', '--', 'I', 'wouldn', \"'\", 't', 'be', 'surprised', 'if', 'today', 'was', 'known', 'as']\n",
      "\n",
      "['surprised', 'if', 'today', 'was', 'known', 'as', 'Harry', 'Potter', 'day', 'in', 'the', 'future', '--', 'there', 'will', 'be', 'books', 'written', 'about']\n",
      "\n",
      "['boy', 'getting', 'here', ',', 'Dumbledore', '?\"', 'She', 'eyed', 'his', 'cloak', 'suddenly', 'as', 'though', 'she', 'thought', 'he', 'might', 'be', 'hiding']\n",
      "\n",
      "['Well', '--', 'give', 'him', 'here', ',', 'Hagrid', '--', 'we', \"'\", 'd', 'better', 'get', 'this', 'over', 'with', '.\"', 'Dumbledore', 'took']\n",
      "\n",
      "['good', '-', 'bye', 'to', 'him', ',', 'sir', '?\"', 'asked', 'Hagrid', '.', 'He', 'bent', 'his', 'great', ',', 'shaggy', 'head', 'over']\n",
      "\n",
      "['-', 'c', '-', 'can', \"'\", 't', 'stand', 'it', '--', 'Lily', 'an', \"'\", 'James', 'dead', '--', 'an', \"'\", 'poor', 'little']\n",
      "\n",
      "['the', 'arm', 'as', 'Dumbledore', 'stepped', 'over', 'the', 'low', 'garden', 'wall', 'and', 'walked', 'to', 'the', 'front', 'door', '.', 'He', 'laid']\n",
      "\n",
      "['He', 'laid', 'Harry', 'gently', 'on', 'the', 'doorstep', ',', 'took', 'a', 'letter', 'out', 'of', 'his', 'cloak', ',', 'tucked', 'it', 'inside']\n",
      "\n",
      "['He', 'could', 'just', 'see', 'the', 'bundle', 'of', 'blankets', 'on', 'the', 'step', 'of', 'number', 'four', '.', '\"', 'Good', 'luck', ',']\n",
      "\n",
      "['and', 'tidy', 'under', 'the', 'inky', 'sky', ',', 'the', 'very', 'last', 'place', 'you', 'would', 'expect', 'astonishing', 'things', 'to', 'happen', '.']\n",
      "\n",
      "['in', 'secret', 'all', 'over', 'the', 'country', 'were', 'holding', 'up', 'their', 'glasses', 'and', 'saying', 'in', 'hushed', 'voices', ':', '\"', 'To']\n",
      "\n"
     ]
    }
   ],
   "source": [
    "harry_con = text.concordance_list(\"Harry\")\n",
    "dursley_con = text.concordance_list(\"Dursley\")\n",
    "dumble_con = text.concordance_list(\"Dumbledore\")\n",
    "volde_con = text.concordance_list(\"Voldemort\")\n",
    "\n",
    "cons = [harry_con, dursley_con, dumble_con, volde_con]\n",
    "\n",
    "# harry_con, type list\n",
    "# harry_con[0], type ConcodanceLine\n",
    "# harry_con[0].left, list of tokens appearing to the left\n",
    "# harry_con[0].right, list of tokens appearing to the right\n",
    "\n",
    "# nltk.FreqDist(harry_con[0].left)\n",
    "\n",
    "for con in harry_con:\n",
    "    print(con.left)\n",
    "    print()"
   ]
  },
  {
   "cell_type": "code",
   "execution_count": null,
   "id": "ae0636ae",
   "metadata": {},
   "outputs": [],
   "source": [
    "#sentiment(nltk.FreqDist(harry_con[0].left))\n",
    "#print(harry_con[0].left)\n",
    "fd = nltk.FreqDist(harry_con[0].left)\n",
    "#sentiment(fd)\n",
    "left = [ch.lower() for ch in harry_con[0].left if ch.isalpha()]\n",
    "right = [ch.lower() for ch in harry_con[0].right if ch.isalpha()]\n",
    "combined = left + right\n"
   ]
  },
  {
   "cell_type": "code",
   "execution_count": null,
   "id": "87bacb6f",
   "metadata": {},
   "outputs": [],
   "source": [
    "# Testing con_sentiment\n",
    "for con in cons:\n",
    "    print(con_sentiment(con))"
   ]
  }
 ],
 "metadata": {
  "kernelspec": {
   "display_name": "Python 3 (ipykernel)",
   "language": "python",
   "name": "python3"
  },
  "language_info": {
   "codemirror_mode": {
    "name": "ipython",
    "version": 3
   },
   "file_extension": ".py",
   "mimetype": "text/x-python",
   "name": "python",
   "nbconvert_exporter": "python",
   "pygments_lexer": "ipython3",
   "version": "3.10.8"
  }
 },
 "nbformat": 4,
 "nbformat_minor": 5
}
