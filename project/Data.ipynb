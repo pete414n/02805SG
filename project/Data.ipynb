{
 "cells": [
  {
   "cell_type": "code",
   "execution_count": null,
   "id": "3f7fc6e9",
   "metadata": {},
   "outputs": [],
   "source": [
    "import csv\n",
    "\n",
    "characters = []\n",
    "\n",
    "with open(\"HP_characters.csv\", \"r\", encoding=\"utf8\") as sent_file:\n",
    "    csv = csv.reader(sent_file, delimiter=\",\")\n",
    "    for row in csv:\n",
    "        name = row[0].replace(' ', '_')\n",
    "        parentage = row[1]\n",
    "        house = row[2]\n",
    "        occupation = row[3]\n",
    "        characters.append((name, parentage, house, occupation))\n",
    "\n",
    "#characters"
   ]
  },
  {
   "cell_type": "code",
   "execution_count": null,
   "id": "69b71957",
   "metadata": {
    "scrolled": false
   },
   "outputs": [],
   "source": [
    "# Try to get the pages:\n",
    "import urllib.request\n",
    "import json\n",
    "from urllib.parse import quote\n",
    "\n",
    "url = 'http://example.com/'\n",
    "response = urllib.request.urlopen(url)\n",
    "data = response.read()      # a `bytes` object\n",
    "text = data.decode('utf-8')\n",
    "\n",
    "misses = []\n",
    "lengths = []\n",
    "disambig = []\n",
    "\n",
    "#baseurl = \"https://en.wikipedia.org/w/api.php?\"\n",
    "\n",
    "#https://harrypotter.fandom.com/wiki/Special:Search?query=Dumbledore&scope=internal&navigationSearch=true&so=trending\n",
    "#https://www.reddit.com/r/learnpython/comments/muwu7v/scraping_fandomwiki_pages/\n",
    "baseurl = \"https://harrypotter.fandom.com/api.php?\"\n",
    "\n",
    "action = \"action=query\"\n",
    "\n",
    "for character in characters:\n",
    "    title = \"titles=\" + character[0]\n",
    "    #print(title)\n",
    "    content = \"prop=revisions&rvprop=content\"\n",
    "    dataformat =\"format=json\"\n",
    "    query = \"{}{}&{}&{}&{}\".format(baseurl, action, content, title, dataformat)\n",
    "    #print(query)\n",
    "    #try:\n",
    "    wikiresponse = urllib.request.urlopen(query)\n",
    "    wikidata = wikiresponse.read()\n",
    "    wikitext = wikidata.decode('utf-8')\n",
    "    lengths.append((character, len(wikitext)))\n",
    "\n",
    "    #print(wikitext)\n",
    "    try:\n",
    "        jsonobj = json.loads(wikitext)\n",
    "    except ValueError: \n",
    "        print(f'Decoding JSON has failed for {character}, moving on...')\n",
    "    num = list(jsonobj['query']['pages'].keys())[0]\n",
    "    wikitext = jsonobj['query']['pages'][num]['revisions'][0]['*']\n",
    "    #wikitext = jsonobj['query']['pages'][num]['revisions'][0]['slots']['main']['*']\n",
    "    f_name = character[0] + '.txt'\n",
    "    with open(\"characters/\" + f_name, 'w') as f:\n",
    "        f.write(wikitext)\n",
    "\n",
    "\n",
    "    #print(len(wikitext))\n",
    "      #except:\n",
    "  #  misses.append(quote(character))"
   ]
  },
  {
   "cell_type": "code",
   "execution_count": null,
   "id": "eca7db8d",
   "metadata": {},
   "outputs": [],
   "source": [
    "\n",
    "print(sorted(lengths, key=lambda x: x[1]))"
   ]
  },
  {
   "cell_type": "code",
   "execution_count": null,
   "id": "c4d51bc9",
   "metadata": {},
   "outputs": [],
   "source": [
    "import os\n",
    "\n",
    "unzipped = list(list(zip(*characters))[0])\n",
    "names = []\n",
    "\n",
    "for file in os.listdir(\"characters\"):\n",
    "    names.append(file[:-4])\n",
    "\n",
    "print(len(names))\n",
    "print(len(unzipped))    \n",
    "i = 1\n",
    "for name in unzipped:\n",
    "    if name in names:\n",
    "        print(f\"{i} {name}\")\n",
    "        i = i + 1\n",
    "        \n",
    "print(len(list(set(unzipped))))"
   ]
  },
  {
   "cell_type": "code",
   "execution_count": null,
   "id": "86f85572",
   "metadata": {},
   "outputs": [],
   "source": [
    "for n in unzipped:\n",
    "    print(n)"
   ]
  }
 ],
 "metadata": {
  "kernelspec": {
   "display_name": "Python 3 (ipykernel)",
   "language": "python",
   "name": "python3"
  },
  "language_info": {
   "codemirror_mode": {
    "name": "ipython",
    "version": 3
   },
   "file_extension": ".py",
   "mimetype": "text/x-python",
   "name": "python",
   "nbconvert_exporter": "python",
   "pygments_lexer": "ipython3",
   "version": "3.10.7"
  }
 },
 "nbformat": 4,
 "nbformat_minor": 5
}
