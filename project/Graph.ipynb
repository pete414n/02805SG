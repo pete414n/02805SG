{
 "cells": [
  {
   "cell_type": "code",
   "execution_count": null,
   "id": "a21a0c6a",
   "metadata": {},
   "outputs": [],
   "source": [
    "# Create character tuple list\n",
    "import csv\n",
    "import os\n",
    "\n",
    "characters = []\n",
    "\n",
    "with open(\"HP_characters.csv\", \"r\", encoding=\"utf8\") as sent_file:\n",
    "    csv = csv.reader(sent_file, delimiter=\",\")\n",
    "    for row in csv:\n",
    "        name = row[0].replace(' ', '_')\n",
    "        parentage = row[1]\n",
    "        house = row[2]\n",
    "        occupation = row[3]\n",
    "        characters.append((name, parentage, house, occupation))"
   ]
  },
  {
   "cell_type": "code",
   "execution_count": null,
   "id": "15273e95",
   "metadata": {},
   "outputs": [],
   "source": [
    "# Confirm that we have a file for each character in our list\n",
    "unzipped = list(list(zip(*characters))[0])\n",
    "names = []\n",
    "\n",
    "for file in os.listdir(\"characters\"):\n",
    "    names.append(file[:-4])\n",
    "\n",
    "# The difference between the sets is the empty set\n",
    "print(set(unzipped) - set(names))"
   ]
  },
  {
   "cell_type": "code",
   "execution_count": null,
   "id": "7879449b",
   "metadata": {},
   "outputs": [],
   "source": [
    "import os\n",
    "import re\n",
    "import networkx as nx\n",
    "\n",
    "# Init graph\n",
    "G = nx.DiGraph()\n",
    "\n",
    "# Insert nodes\n",
    "for character in characters:\n",
    "    G.add_node(character[0], parentage=character[1], house=character[2], occupation=[3])\n",
    "    \n",
    "for file in os.listdir(\"characters\"):\n",
    "    orig_character = file[:-4]\n",
    "    \n",
    "    link_list = []\n",
    "    fileopener = open(\"characters/\" + file, 'r')\n",
    "    text = fileopener.read()    \n",
    "    links = re.findall(r'[[]{2}.*?[]]{2}', text)\n",
    "        \n",
    "    for link in links:\n",
    "        character = link.replace(\"[\", \"\").replace(\"]\", \"\").replace(\" \", \"_\")\n",
    "        character = character.partition(\"|\")[0]\n",
    "        link_list.append(character)\n",
    "    link_list = [*set(link_list)]\n",
    "    \n",
    "    for character in link_list:\n",
    "        filename = character + \".txt\"\n",
    "        if os.path.isfile(\"characters/\" + filename) or os.path.isfile(\"characters/\" + filename):\n",
    "            G.add_edge(orig_character, character)\n",
    "\n",
    "print(\"Number of nodes: \" + str(G.number_of_nodes()))\n",
    "print(\"Number of edges: \" + str(G.number_of_edges()))"
   ]
  }
 ],
 "metadata": {
  "kernelspec": {
   "display_name": "Python 3 (ipykernel)",
   "language": "python",
   "name": "python3"
  },
  "language_info": {
   "codemirror_mode": {
    "name": "ipython",
    "version": 3
   },
   "file_extension": ".py",
   "mimetype": "text/x-python",
   "name": "python",
   "nbconvert_exporter": "python",
   "pygments_lexer": "ipython3",
   "version": "3.10.7"
  }
 },
 "nbformat": 4,
 "nbformat_minor": 5
}
