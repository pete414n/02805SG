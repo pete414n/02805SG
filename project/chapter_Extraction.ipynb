{
 "cells": [
  {
   "cell_type": "code",
   "execution_count": null,
   "id": "ae0a1c76",
   "metadata": {},
   "outputs": [],
   "source": [
    "#https://pythonprogramming.net/named-entity-recognition-stanford-ner-tagger/\n",
    "from nltk.tag import StanfordNERTagger\n",
    "from nltk.tokenize import word_tokenize\n",
    "\n",
    "st = StanfordNERTagger('./stanford-ner/classifiers/english.all.3class.distsim.crf.ser.gz',\n",
    "                        './stanford-ner/stanford-ner.jar',\n",
    "                       encoding='utf-8')\n",
    "\n",
    "text = 'While in France, Christine Lagarde and Duffy and Hestia discussed short-term stimulus efforts in a recent interview with the Wall Street Journal.'\n",
    "\n",
    "tokenized_text = word_tokenize(text)\n",
    "classified_text = st.tag(tokenized_text)\n",
    "\n",
    "print(classified_text)"
   ]
  },
  {
   "cell_type": "code",
   "execution_count": null,
   "id": "3f6f4249",
   "metadata": {},
   "outputs": [],
   "source": [
    "#https://pdfminersix.readthedocs.io/en/latest/tutorial/highlevel.html\n",
    "\n",
    "pages = list(range(403, 419))\n",
    "\n",
    "from pdfminer.high_level import extract_text\n",
    "text = extract_text('./Books/Harry_Potter_Goblet_of_Fire.pdf', page_numbers=pages)\n",
    "chapter = open(\"B4_Ch30.txt\", \"w\")\n",
    "n = chapter.write(text)\n",
    "chapter.close()\n",
    "\n",
    "#tokenized_text1 = word_tokenize(text)\n",
    "#classified_text1 = st.tag(tokenized_text1)\n",
    "\n",
    "#print(classified_text1)"
   ]
  },
  {
   "cell_type": "code",
   "execution_count": null,
   "id": "eeeae91f",
   "metadata": {},
   "outputs": [],
   "source": [
    "persons = []\n",
    "organizations = []\n",
    "locations = []\n",
    "\n",
    "for word, type in classified_text1:\n",
    "    if type == 'PERSON':\n",
    "        persons.append(word)\n",
    "    if type == 'ORGANIZATION':\n",
    "        organizations.append(word)\n",
    "    if type == 'LOCATION':\n",
    "        locations.append(word)\n",
    "print(persons)\n",
    "        "
   ]
  },
  {
   "cell_type": "code",
   "execution_count": null,
   "id": "f00c3b06",
   "metadata": {},
   "outputs": [],
   "source": [
    "print(organizations)\n",
    "print(locations)"
   ]
  },
  {
   "cell_type": "code",
   "execution_count": null,
   "id": "96a06995",
   "metadata": {},
   "outputs": [],
   "source": [
    "from pdfminer.high_level import extract_text"
   ]
  },
  {
   "cell_type": "code",
   "execution_count": null,
   "id": "e9bff26b",
   "metadata": {},
   "outputs": [],
   "source": [
    "# Extract books and save chapterwise as txt\n",
    "def chp_extraction(book, book_no, page_numbers):\n",
    "    for i in range(len(page_numbers)-1):\n",
    "        pages = list(range(page_numbers[i], page_numbers[i+1]))\n",
    "        text = extract_text(book, page_numbers=pages)\n",
    "        chapter = open(\"B\"+str(book_no)+\"_Ch\" + str(i+1)+\".txt\", \"w\")\n",
    "        n = chapter.write(text)\n",
    "        chapter.close()"
   ]
  },
  {
   "cell_type": "code",
   "execution_count": null,
   "id": "bfc637eb",
   "metadata": {},
   "outputs": [],
   "source": [
    "#Book 1\n",
    "chp_starts1 = [6, 19, 29, 41, 53, 74, 93, 107, 116, 132, 145, 156, 173, 183, 194, 209, 229, 245]\n",
    "book1 = './Books/Harry_Potter_and_the_Philosophers_Stone.pdf'\n",
    "chp_extraction(book1, 1, chp_starts1)"
   ]
  },
  {
   "cell_type": "code",
   "execution_count": null,
   "id": "d8cbda0d",
   "metadata": {},
   "outputs": [],
   "source": [
    "#Book 2\n",
    "chp_starts2 = [7, 14, 22, 34, 49, 63, 75, 87, 100, 114, 128, 143, 158, 173, 184, 196, 211, 225, 235]\n",
    "book2 = './Books/Harry_Potter_and_the_Chamber_of_Secrets.pdf'\n",
    "chp_extraction(book2, 2, chp_starts2)\n"
   ]
  },
  {
   "cell_type": "code",
   "execution_count": null,
   "id": "da88dd75",
   "metadata": {},
   "outputs": [],
   "source": [
    "#Book 3\n",
    "chp_starts3 = [8, 18, 28, 40, 54, 72, 90, 102, 116, 130, 149, 165, 178, 190, 205, 220, 232, 244, 250, 264, 270, 290, 303]\n",
    "book3 = './Books/Harry_Potter_Prisoner_of_Azkaban.pdf'\n",
    "chp_extraction(book3, 3, chp_starts3)"
   ]
  },
  {
   "cell_type": "code",
   "execution_count": null,
   "id": "cd83fc39",
   "metadata": {},
   "outputs": [],
   "source": [
    "#Book 4\n",
    "chp_starts4 = [9, 19, 26, 34, 42, 52, 59, 73, 88, 107, 116, 125, 140, 151, 164, 178, 194, 205, 223, 239, 257, 272, \n",
    "               284, 304, 320, 334, 354, 371, 391, 403, 419, 439, 444, 454, 461, 476, 492, 505]\n",
    "book4 = './Books/Harry_Potter_Goblet_of_Fire.pdf'\n",
    "chp_extraction(book4, 4, chp_starts4)"
   ]
  },
  {
   "cell_type": "code",
   "execution_count": null,
   "id": "5e69b80e",
   "metadata": {},
   "outputs": [],
   "source": [
    "#Book 5\n",
    "chp_starts5 = [9, 24, 41, 55, 71, 85, 102, 114, 125, 146, 162, 179, 202, 224, 245, 264, 279, 297, 315, 333, 349, \n",
    "               368, 388, 407, 428, 449, 471, 491, 512, 532, 553, 573, 590, 600, 614, 634, 644, 663, 683]\n",
    "book5 = './Books/Harry_Potter_Order_of_the_Phoenix.pdf'\n",
    "chp_extraction(book5, 5, chp_starts5)"
   ]
  },
  {
   "cell_type": "code",
   "execution_count": null,
   "id": "9f6a1b1d",
   "metadata": {},
   "outputs": [],
   "source": [
    "#Book 6\n",
    "chp_starts6 = [8, 21, 34, 47, 63, 80, 96, 114, 125, 141, 157, 170, 184, 198, 215, 230, 247, 264, 281, 297, 314, \n",
    "               329, 345, 359, 374, 388, 404, 416, 425, 440, 453]\n",
    "book6 = './Books/Harry_Potter_Half-Blood_Prince.pdf'\n",
    "chp_extraction(book6, 6, chp_starts6)"
   ]
  },
  {
   "cell_type": "code",
   "execution_count": null,
   "id": "84eadf2b",
   "metadata": {},
   "outputs": [],
   "source": [
    "#Book 7\n",
    "chp_starts7 = [5, 14, 25, 35, 49, 66, 84, 103, 120, 131, 149, 165, 182, 198, 209, 229, 243, 258, 267, 285, 298, \n",
    "            311, 327, 349, 367, 379, 397, 404, 416, 429, 443, 464, 479, 502, 512, 526, 545, 550]\n",
    "book7 = './Books/Harry_Potter_and_the_Deathly_Hallows.pdf'\n",
    "chp_extraction(book7, 7, chp_starts7)"
   ]
  }
 ],
 "metadata": {
  "kernelspec": {
   "display_name": "Python 3",
   "language": "python",
   "name": "python3"
  },
  "language_info": {
   "codemirror_mode": {
    "name": "ipython",
    "version": 3
   },
   "file_extension": ".py",
   "mimetype": "text/x-python",
   "name": "python",
   "nbconvert_exporter": "python",
   "pygments_lexer": "ipython3",
   "version": "3.7.13"
  }
 },
 "nbformat": 4,
 "nbformat_minor": 5
}
