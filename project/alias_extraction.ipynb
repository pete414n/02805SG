{
 "cells": [
  {
   "cell_type": "code",
   "execution_count": null,
   "id": "84424c88",
   "metadata": {},
   "outputs": [],
   "source": [
    "import csv\n",
    "import urllib.request\n",
    "import json\n",
    "import numpy as np\n",
    "import matplotlib.pyplot as plt\n",
    "from urllib.parse import quote\n",
    "import os\n",
    "import re"
   ]
  },
  {
   "cell_type": "code",
   "execution_count": null,
   "id": "f93b5145",
   "metadata": {},
   "outputs": [],
   "source": [
    "# Moving the characters from our .csv file into a list of tuples\n",
    "characters = []\n",
    "\n",
    "with open(\"HP_characters.csv\", \"r\", encoding=\"utf8\") as sent_file:\n",
    "    csv = csv.reader(sent_file, delimiter=\",\")\n",
    "    for row in csv:\n",
    "        name = row[0].replace(' ', '_') \n",
    "        # Parentage, House, and Occupation will be our attributes in the nodes\n",
    "        parentage = row[1]\n",
    "        house = row[2]\n",
    "        occupation = row[3]\n",
    "        characters.append((name, parentage, house, occupation))"
   ]
  },
  {
   "cell_type": "code",
   "execution_count": null,
   "id": "1b21a2b7",
   "metadata": {},
   "outputs": [],
   "source": [
    "lengths = []\n",
    "\n",
    "#https://www.reddit.com/r/learnpython/comments/muwu7v/scraping_fandomwiki_pages/\n",
    "baseurl = \"https://harrypotter.fandom.com/api.php?\"\n",
    "action = \"action=query\"\n",
    "\n",
    "for character in characters:\n",
    "    #if (character[0] == 'Eldred_Worple'):\n",
    "    # Set up the query for the character\n",
    "    title = \"titles=\" + character[0]\n",
    "    content = \"prop=revisions&rvprop=content\"\n",
    "    dataformat =\"format=json\"\n",
    "    query = \"{}{}&{}&{}&{}\".format(baseurl, action, content, title, dataformat)\n",
    "\n",
    "    # Since we have checked the articles, we know that urlopen will succeed\n",
    "    wikiresponse = urllib.request.urlopen(query)\n",
    "    wikidata = wikiresponse.read()\n",
    "    wikitext = wikidata.decode('utf-8')\n",
    "    lengths.append((character, len(wikitext)))\n",
    "\n",
    "    try:\n",
    "        jsonobj = json.loads(wikitext)\n",
    "    except ValueError: \n",
    "        print(f'Decoding JSON has failed for {character}, moving on...')\n",
    "    # Get the number for the article\n",
    "    num = list(jsonobj['query']['pages'].keys())[0]\n",
    "    # Get the wikitext\n",
    "    wikitext = jsonobj['query']['pages'][num]['revisions'][0]['*']\n",
    "    f_name = character[0] + '.txt'\n",
    "\n",
    "    # Remove <ref> tags including content.\n",
    "    clean_text = re.sub(r'<ref.*?</ref>', \"\", wikitext)\n",
    "    clean_text = re.sub(r'<ref.*?/>', \"\", clean_text)\n",
    "\n",
    "    # Write to a file with that name\n",
    "    with open(\"characters/\" + f_name, 'w') as f:\n",
    "        f.write(clean_text)"
   ]
  },
  {
   "cell_type": "code",
   "execution_count": null,
   "id": "500d2feb",
   "metadata": {},
   "outputs": [],
   "source": [
    "def find_aliases(text, alias_dict, name):\n",
    "    #print(\"Name: \" + name)\n",
    "    #Find all aliases. Will be between |alias and |title, can be on several lines\n",
    "    aliases = re.findall(r'\\|alias = (.(.|\\s)*?)\\|', text)\n",
    "    \n",
    "    if len(aliases)==0:\n",
    "        return\n",
    "    else:\n",
    "        #Take the first match in the first group and split by new line so each alias becomes an element\n",
    "        all_aliases = aliases[0][0].split(\"\\n\")\n",
    "        #print(\"length of aliases: \" + str(len(all_aliases)))\n",
    "\n",
    "        #Find the aliases to keep\n",
    "        for alias in all_aliases:\n",
    "            #Don't keep the ones used for a disguise\n",
    "            if \"disguise\" in alias:\n",
    "                continue\n",
    "            #Mudblood not an alias\n",
    "            if \"Mudblood\" in alias:\n",
    "                continue\n",
    "            #Don't keep the ones used to tell others a wrong name \n",
    "            if \"the name he told\" in alias:\n",
    "                continue\n",
    "            if \"the name she told\" in alias:\n",
    "                continue\n",
    "            #If alias is empty string then don't keep\n",
    "            if alias == '':\n",
    "                continue\n",
    "            #Cleaning of the aliases\n",
    "            processed_alias = alias.split(\" (by\")[0]\n",
    "            if '{{' in processed_alias:\n",
    "                processed_alias = alias.split(\"{{\")[0]\n",
    "            processed_alias = processed_alias.replace('*', '')\n",
    "            processed_alias = processed_alias.replace('[[', '').replace(']]', '').replace('\"', '')\n",
    "            if processed_alias in alias_dict:\n",
    "                print(\"Processed alias: \" + processed_alias + \", belonging to: \" + name)\n",
    "            else:\n",
    "                alias_dict[processed_alias.lower()] = name   "
   ]
  },
  {
   "cell_type": "code",
   "execution_count": null,
   "id": "ce09ef92",
   "metadata": {},
   "outputs": [],
   "source": [
    "alias_dictionary = {}\n",
    "not_added = []\n",
    "for file_ in os.listdir(\"./characters\"):\n",
    "    #print(file_)\n",
    "    name = file_[:-4]\n",
    "    #print(name)\n",
    "    with open(\"./characters/\"+file_, 'r') as f:\n",
    "        text = f.read()\n",
    "    first_name = name.split(\"_\")[0].lower()\n",
    "    #print(\"First name: \" + first_name)\n",
    "    full_name = name.replace('_', ' ').lower()\n",
    "    if first_name in alias_dictionary:\n",
    "        not_added.append((first_name, name))\n",
    "    else:\n",
    "        alias_dictionary[first_name] = name\n",
    "    alias_dictionary[full_name] = name\n",
    "    find_aliases(text, alias_dictionary, name)\n",
    "    \n"
   ]
  },
  {
   "cell_type": "code",
   "execution_count": null,
   "id": "3ad94986",
   "metadata": {},
   "outputs": [],
   "source": [
    "print(not_added)"
   ]
  },
  {
   "cell_type": "code",
   "execution_count": null,
   "id": "8a48884f",
   "metadata": {},
   "outputs": [],
   "source": [
    "for item in not_added:\n",
    "    print(\"Dict has: \" + alias_dictionary[item[0]] + \" instead of: \" + item[1])\n",
    "    "
   ]
  },
  {
   "cell_type": "code",
   "execution_count": null,
   "id": "5a3daaf9",
   "metadata": {},
   "outputs": [],
   "source": [
    "alias_dictionary['james'] = 'James_Potter_I'\n",
    "alias_dictionary['frank'] = 'Frank_Longbottom'\n",
    "alias_dictionary['marcus'] = 'Marcus_Flint'\n",
    "alias_dictionary['hermione'] = 'Hermione_Granger'\n",
    "alias_dictionary['mr. dursley'] = 'Vernon_Dursley'\n",
    "alias_dictionary['mrs. dursley'] = 'Petunia_Dursley'\n",
    "alias_dictionary['mcgonagall'] = 'Minerva_McGonagall'\n",
    "alias_dictionary['dumbledore'] = 'Albus_Dumbledore'"
   ]
  },
  {
   "cell_type": "code",
   "execution_count": null,
   "id": "5c71280e",
   "metadata": {},
   "outputs": [],
   "source": [
    "print(alias_dictionary['ron'])\n",
    "print(alias_dictionary['harry potter'])\n",
    "print(alias_dictionary['frank'])\n",
    "print(alias_dictionary['the boy who lived'])\n",
    "print(alias_dictionary[' ab '])\n",
    "p"
   ]
  },
  {
   "cell_type": "code",
   "execution_count": null,
   "id": "bb601b2e",
   "metadata": {},
   "outputs": [],
   "source": [
    "if 'mr' in alias_dictionary:\n",
    "    del alias_dictionary['mr']\n",
    "if 'mrs' in alias_dictionary:\n",
    "    del alias_dictionary['mrs']\n",
    "\n",
    "for alias, name in alias_dictionary.items():\n",
    "    if (len(alias)<4):\n",
    "        print(alias)\n",
    "        alias_dictionary[' '+alias+' '] = alias_dictionary.pop(alias)"
   ]
  },
  {
   "cell_type": "code",
   "execution_count": null,
   "id": "c74620c6",
   "metadata": {},
   "outputs": [],
   "source": [
    "#print(sorted(alias_dictionary.items()))\n",
    "print(alias_dictionary[' al '])"
   ]
  },
  {
   "cell_type": "markdown",
   "id": "9d0f99e6",
   "metadata": {},
   "source": [
    "### Notes to aliases/ first names that collapses:\n",
    "**Following characters only appears in the last chapter of B7:**\n",
    "- James Potter II \n",
    "- Edward Lupin\n",
    "- Rose Granger-Weasley\n",
    "- Lily L. Potter\n",
    "\n",
    "- Frank Bryce only appears in first chapter of B4\n",
    "\n",
    "For the above characters we will change dictionary when looking in the corresponding chapters\n",
    "\n",
    "**Following characters has first names that are the same and appears in different books:**\n",
    "- Marcus Flint (appears in B1, B2, B3) and Marcus Belby (appears in B6), equally important\n",
    "- Graham Montague (in B3, B5) more important than Graham Pritchard (in B4)\n",
    "- Frank Longbottom (in B5) more important than Frank Bryce (in B4)\n",
    "- Avery II (in B4, B5) more important than Avery I (in B6)\n",
    "\n",
    "**Following characters has first names that are the same and appears in the same books:**\n",
    "- Graham Montague (in B3, B5) more important than Graham Montague's father (in B5) and mother (in B5)\n",
    "- Hermione Granger (in all books) more important than Hermione Granger's Father(in B2, B5) and Hermione Granger's Mother (in B2, B5)\n",
    "- Dennis Creevey (in B4-B6) more important than Dennis (in B5)\n",
    "- Ernest Macmillan (in B2, B4-B7) more important than Ernest Prang (in B3, B6)\n",
    "- Fat Friar (in B1, B2, B5) and Fat Lady (in all books) equally important\n",
    "- Mary Cattermole (in B7) equally important as Mary Macdonald (in B7)\n",
    "- Evans sister's father (in B7) equally important as Evans sister's mother (in B7)\n",
    "- Ludovic Bagman (in B4) more important than Ludovic Bagman's Goblin creditors (in B4)\n",
    "\n",
    "For those not in the same books we will make dictionary to fit with book. \n",
    "For those in the same books we will have to find another solution and prioritize the most important characters. \n",
    "\n",
    "Mr. and Mrs. Dursley appears often like this. Needs to be replaced with Vernon_Dursley and Petunia_Dursley.\n",
    "The Potters should be replaced with James_Potter_I and Lily_J._Potter\n",
    "\n"
   ]
  },
  {
   "cell_type": "code",
   "execution_count": null,
   "id": "f75f7aeb",
   "metadata": {},
   "outputs": [],
   "source": [
    "# Replace names in chapters so they are called our character names and not aliases\n",
    "text = ''\n",
    "with open('./B1/B1_Ch1.txt', 'r') as f:\n",
    "    text = f.read()\n",
    "    f.close()\n",
    "text = text.replace('\\t', ' ').replace('\\n', ' ').replace('  ', ' ')\n",
    "text = text.lower()\n",
    "text = text.replace('mr. and mrs. dursley', 'Vernon_Dursley and Petunia_Dursley')\n",
    "text = text.replace('the potters', 'James_Potter_I and Lily_J._Potter')\n",
    "\n",
    "for alias, name in alias_dictionary.items():\n",
    "    text = text.replace(alias, name)\n",
    "\n",
    "text"
   ]
  },
  {
   "cell_type": "code",
   "execution_count": null,
   "id": "e50369f7",
   "metadata": {},
   "outputs": [],
   "source": [
    " # Write to a file with that name\n",
    "with open(\"B1/replaced_ch1\" , 'w') as f:\n",
    "        f.write(text)\n"
   ]
  },
  {
   "cell_type": "code",
   "execution_count": null,
   "id": "ae3a5004",
   "metadata": {},
   "outputs": [],
   "source": []
  }
 ],
 "metadata": {
  "kernelspec": {
   "display_name": "Python 3",
   "language": "python",
   "name": "python3"
  },
  "language_info": {
   "codemirror_mode": {
    "name": "ipython",
    "version": 3
   },
   "file_extension": ".py",
   "mimetype": "text/x-python",
   "name": "python",
   "nbconvert_exporter": "python",
   "pygments_lexer": "ipython3",
   "version": "3.7.13"
  }
 },
 "nbformat": 4,
 "nbformat_minor": 5
}
