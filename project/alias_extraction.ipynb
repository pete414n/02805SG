{
 "cells": [
  {
   "cell_type": "code",
   "execution_count": null,
   "id": "84424c88",
   "metadata": {},
   "outputs": [],
   "source": [
    "import csv\n",
    "import urllib.request\n",
    "import json\n",
    "import numpy as np\n",
    "import matplotlib.pyplot as plt\n",
    "from urllib.parse import quote\n",
    "import os\n",
    "import re"
   ]
  },
  {
   "cell_type": "code",
   "execution_count": null,
   "id": "f93b5145",
   "metadata": {},
   "outputs": [],
   "source": [
    "# Moving the characters from our .csv file into a list of tuples\n",
    "characters = []\n",
    "\n",
    "with open(\"HP_characters.csv\", \"r\", encoding=\"utf8\") as sent_file:\n",
    "    csv = csv.reader(sent_file, delimiter=\",\")\n",
    "    for row in csv:\n",
    "        name = row[0].replace(' ', '_') \n",
    "        # Parentage, House, and Occupation will be our attributes in the nodes\n",
    "        parentage = row[1]\n",
    "        house = row[2]\n",
    "        occupation = row[3]\n",
    "        characters.append((name, parentage, house, occupation))"
   ]
  },
  {
   "cell_type": "code",
   "execution_count": null,
   "id": "1b21a2b7",
   "metadata": {},
   "outputs": [],
   "source": [
    "lengths = []\n",
    "\n",
    "#https://www.reddit.com/r/learnpython/comments/muwu7v/scraping_fandomwiki_pages/\n",
    "baseurl = \"https://harrypotter.fandom.com/api.php?\"\n",
    "action = \"action=query\"\n",
    "\n",
    "for character in characters:\n",
    "    #if (character[0] == 'Eldred_Worple'):\n",
    "    # Set up the query for the character\n",
    "    title = \"titles=\" + character[0]\n",
    "    content = \"prop=revisions&rvprop=content\"\n",
    "    dataformat =\"format=json\"\n",
    "    query = \"{}{}&{}&{}&{}\".format(baseurl, action, content, title, dataformat)\n",
    "\n",
    "    # Since we have checked the articles, we know that urlopen will succeed\n",
    "    wikiresponse = urllib.request.urlopen(query)\n",
    "    wikidata = wikiresponse.read()\n",
    "    wikitext = wikidata.decode('utf-8')\n",
    "    lengths.append((character, len(wikitext)))\n",
    "\n",
    "    try:\n",
    "        jsonobj = json.loads(wikitext)\n",
    "    except ValueError: \n",
    "        print(f'Decoding JSON has failed for {character}, moving on...')\n",
    "    # Get the number for the article\n",
    "    num = list(jsonobj['query']['pages'].keys())[0]\n",
    "    # Get the wikitext\n",
    "    wikitext = jsonobj['query']['pages'][num]['revisions'][0]['*']\n",
    "    f_name = character[0] + '.txt'\n",
    "\n",
    "    # Remove <ref> tags including content.\n",
    "    clean_text = re.sub(r'<ref.*?</ref>', \"\", wikitext)\n",
    "    clean_text = re.sub(r'<ref.*?/>', \"\", clean_text)\n",
    "\n",
    "    # Write to a file with that name\n",
    "    with open(\"characters/\" + f_name, 'w') as f:\n",
    "        f.write(clean_text)"
   ]
  },
  {
   "cell_type": "code",
   "execution_count": null,
   "id": "500d2feb",
   "metadata": {},
   "outputs": [],
   "source": [
    "def find_aliases(text, alias_dict, name):\n",
    "    #print(\"Name: \" + name)\n",
    "    #Find all aliases. Will be between |alias and |title, can be on several lines\n",
    "    aliases = re.findall(r'\\|alias = (.(.|\\s)*?)\\|', text)\n",
    "    \n",
    "    if len(aliases)==0:\n",
    "        return\n",
    "    else:\n",
    "        #Take the first match in the first group and split by new line so each alias becomes an element\n",
    "        all_aliases = aliases[0][0].split(\"\\n\")\n",
    "        #print(\"length of aliases: \" + str(len(all_aliases)))\n",
    "\n",
    "        #Find the aliases to keep\n",
    "        for alias in all_aliases:\n",
    "            #Don't keep the ones used for a disguise\n",
    "            if \"disguise\" in alias:\n",
    "                continue\n",
    "            #Mudblood not an alias\n",
    "            if \"Mudblood\" in alias:\n",
    "                continue\n",
    "            #Don't keep the ones used to tell others a wrong name \n",
    "            if \"the name he told\" in alias:\n",
    "                continue\n",
    "            if \"the name she told\" in alias:\n",
    "                continue\n",
    "            #If alias is empty string then don't keep\n",
    "            if alias == '':\n",
    "                continue\n",
    "            #Only keep the first part of the alias and only from the 2nd char, as 1st char is a *\n",
    "            processed_alias = alias.split(\" (by\")[0].replace('*', '')\n",
    "            if processed_alias in alias_dict:\n",
    "                print(\"Processed alias: \" + processed_alias + \", belonging to: \" + name)\n",
    "            else:\n",
    "                alias_dict[processed_alias] = name   "
   ]
  },
  {
   "cell_type": "code",
   "execution_count": null,
   "id": "ce09ef92",
   "metadata": {},
   "outputs": [],
   "source": [
    "alias_dictionary = {}\n",
    "\n",
    "for file_ in os.listdir(\"./characters\"):\n",
    "    #print(file_)\n",
    "    name = file_[:-4]\n",
    "    #print(name)\n",
    "    with open(\"./characters/\"+file_, 'r') as f:\n",
    "        text = f.read()\n",
    "    first_name = name.split(\"_\")[0]\n",
    "    #print(\"First name: \" + first_name)\n",
    "    if first_name in alias_dictionary:\n",
    "        print(\"First name: \" + first_name + \", belonging to: \" + name)\n",
    "    else:\n",
    "        alias_dictionary[first_name] = name   \n",
    "    find_aliases(text, alias_dictionary, name)\n",
    "    \n"
   ]
  },
  {
   "cell_type": "code",
   "execution_count": null,
   "id": "3ad94986",
   "metadata": {},
   "outputs": [],
   "source": [
    "print(len(alias_dictionary))"
   ]
  },
  {
   "cell_type": "code",
   "execution_count": null,
   "id": "8a48884f",
   "metadata": {},
   "outputs": [],
   "source": []
  }
 ],
 "metadata": {
  "kernelspec": {
   "display_name": "Python 3",
   "language": "python",
   "name": "python3"
  },
  "language_info": {
   "codemirror_mode": {
    "name": "ipython",
    "version": 3
   },
   "file_extension": ".py",
   "mimetype": "text/x-python",
   "name": "python",
   "nbconvert_exporter": "python",
   "pygments_lexer": "ipython3",
   "version": "3.7.13"
  }
 },
 "nbformat": 4,
 "nbformat_minor": 5
}
