{
 "cells": [
  {
   "cell_type": "code",
   "execution_count": null,
   "id": "b50b80d9",
   "metadata": {},
   "outputs": [],
   "source": [
    "#https://pythonprogramming.net/named-entity-recognition-stanford-ner-tagger/\n",
    "from nltk.tag import StanfordNERTagger\n",
    "from nltk.tokenize import word_tokenize\n",
    "\n",
    "st = StanfordNERTagger('./stanford-ner/classifiers/english.all.3class.distsim.crf.ser.gz',\n",
    "                        './stanford-ner/stanford-ner.jar',\n",
    "                       encoding='utf-8')\n",
    "\n",
    "text = 'While in France, Christine Lagarde and Duffy and Hestia discussed short-term stimulus efforts in a recent interview with the Wall Street Journal.'\n",
    "\n",
    "tokenized_text = word_tokenize(text)\n",
    "classified_text = st.tag(tokenized_text)\n",
    "\n",
    "#print(classified_text)"
   ]
  },
  {
   "cell_type": "code",
   "execution_count": null,
   "id": "86a80b4a",
   "metadata": {},
   "outputs": [],
   "source": [
    "from nltk.tag import StanfordNERTagger\n",
    "from nltk.tokenize import word_tokenize\n",
    "import os"
   ]
  },
  {
   "cell_type": "code",
   "execution_count": null,
   "id": "f484ef98",
   "metadata": {},
   "outputs": [],
   "source": [
    "def NERTag(text):\n",
    "    st = StanfordNERTagger('./stanford-ner/classifiers/english.all.3class.distsim.crf.ser.gz',\n",
    "                        './stanford-ner/stanford-ner.jar',\n",
    "                       encoding='utf-8')\n",
    "    tokenized_text = word_tokenize(text)\n",
    "    classified_text = st.tag(tokenized_text)\n",
    "    \n",
    "    return classified_text"
   ]
  },
  {
   "cell_type": "code",
   "execution_count": null,
   "id": "6be21188",
   "metadata": {},
   "outputs": [],
   "source": [
    "B1Ch1 = open('./B1/B1_Ch1.txt', 'r')\n",
    "#print(B1Ch1.read())\n",
    "\n",
    "labels = NERTag(B1Ch1.read())\n",
    "#for line in B1Ch1.readlines():\n",
    " #   print(line)\n",
    "    #labels.append(NERTag(line))\n",
    "\n",
    "B1Ch1.close()\n",
    "\n",
    "print(labels)"
   ]
  },
  {
   "cell_type": "code",
   "execution_count": null,
   "id": "2a755a70",
   "metadata": {},
   "outputs": [],
   "source": [
    "labels = []\n",
    "\n",
    "for file in os.listdir(\"B1\"):\n",
    "        chap = open('./B1/'+file, 'r')\n",
    "        chap_labels = NERTag(chap.read())\n",
    "        labels.append(chap_labels)\n",
    "        chap.close()\n",
    "\n",
    "#print(labels)"
   ]
  },
  {
   "cell_type": "code",
   "execution_count": null,
   "id": "76656b8c",
   "metadata": {},
   "outputs": [],
   "source": [
    "persons = []\n",
    "organizations = []\n",
    "locations = []\n",
    "\n",
    "for l in labels:\n",
    "    p_list = []\n",
    "    org_list = []\n",
    "    loc_list = []\n",
    "    for word, lab in l:\n",
    "        if lab == 'PERSON':\n",
    "            p_list.append(word)\n",
    "        if lab == 'ORGANIZATION':\n",
    "            org_list.append(word)\n",
    "        if lab == 'LOCATION':\n",
    "            loc_list.append(word)\n",
    "    persons.append(p_list)\n",
    "    organizations.append(org_list)\n",
    "    locations.append(loc_list)\n",
    "\n",
    "print(persons)\n",
    "        "
   ]
  },
  {
   "cell_type": "code",
   "execution_count": null,
   "id": "46bff94c",
   "metadata": {},
   "outputs": [],
   "source": [
    "import numpy as np\n",
    "def unique(list1):\n",
    "    x = np.array(list1)\n",
    "    return np.unique(x)"
   ]
  },
  {
   "cell_type": "code",
   "execution_count": null,
   "id": "04f738aa",
   "metadata": {},
   "outputs": [],
   "source": [
    "for ppl in persons:\n",
    "    print(unique(ppl))"
   ]
  },
  {
   "cell_type": "code",
   "execution_count": null,
   "id": "12cdbbf0",
   "metadata": {},
   "outputs": [],
   "source": [
    "for org in organizations:\n",
    "    print(unique(org))"
   ]
  },
  {
   "cell_type": "code",
   "execution_count": null,
   "id": "5f53a9ab",
   "metadata": {},
   "outputs": [],
   "source": [
    "for loc in locations:\n",
    "    print(unique(loc))"
   ]
  },
  {
   "cell_type": "code",
   "execution_count": null,
   "id": "25681b92",
   "metadata": {},
   "outputs": [],
   "source": []
  }
 ],
 "metadata": {
  "kernelspec": {
   "display_name": "Python 3",
   "language": "python",
   "name": "python3"
  },
  "language_info": {
   "codemirror_mode": {
    "name": "ipython",
    "version": 3
   },
   "file_extension": ".py",
   "mimetype": "text/x-python",
   "name": "python",
   "nbconvert_exporter": "python",
   "pygments_lexer": "ipython3",
   "version": "3.7.13"
  }
 },
 "nbformat": 4,
 "nbformat_minor": 5
}
