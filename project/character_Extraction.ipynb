{
 "cells": [
  {
   "cell_type": "code",
   "execution_count": null,
   "id": "ae0a1c76",
   "metadata": {},
   "outputs": [],
   "source": [
    "#https://pythonprogramming.net/named-entity-recognition-stanford-ner-tagger/\n",
    "from nltk.tag import StanfordNERTagger\n",
    "from nltk.tokenize import word_tokenize\n",
    "\n",
    "st = StanfordNERTagger('./stanford-ner/classifiers/english.all.3class.distsim.crf.ser.gz',\n",
    "                        './stanford-ner/stanford-ner.jar',\n",
    "                       encoding='utf-8')\n",
    "\n",
    "text = 'While in France, Christine Lagarde and Duffy and Hestia discussed short-term stimulus efforts in a recent interview with the Wall Street Journal.'\n",
    "\n",
    "tokenized_text = word_tokenize(text)\n",
    "classified_text = st.tag(tokenized_text)\n",
    "\n",
    "print(classified_text)"
   ]
  },
  {
   "cell_type": "code",
   "execution_count": null,
   "id": "3f6f4249",
   "metadata": {},
   "outputs": [],
   "source": [
    "#https://pdfminersix.readthedocs.io/en/latest/tutorial/highlevel.html\n",
    "\n",
    "from pdfminer.high_level import extract_text\n",
    "text = extract_text('./Books/Harry_Potter_and_the_Deathly_Hallows.pdf', page_numbers=[30,31,32,33,34,35])\n",
    "print(type(text))\n",
    "\n",
    "tokenized_text1 = word_tokenize(text)\n",
    "classified_text1 = st.tag(tokenized_text1)\n",
    "\n",
    "#print(classified_text1)"
   ]
  },
  {
   "cell_type": "code",
   "execution_count": null,
   "id": "eeeae91f",
   "metadata": {},
   "outputs": [],
   "source": [
    "persons = []\n",
    "organizations = []\n",
    "locations = []\n",
    "\n",
    "for word, type in classified_text1:\n",
    "    if type == 'PERSON':\n",
    "        persons.append(word)\n",
    "    if type == 'ORGANIZATION':\n",
    "        organizations.append(word)\n",
    "    if type == 'LOCATION':\n",
    "        locations.append(word)\n",
    "print(persons)\n",
    "        "
   ]
  },
  {
   "cell_type": "code",
   "execution_count": null,
   "id": "f00c3b06",
   "metadata": {},
   "outputs": [],
   "source": [
    "print(organizations)"
   ]
  },
  {
   "cell_type": "code",
   "execution_count": null,
   "id": "84eadf2b",
   "metadata": {},
   "outputs": [],
   "source": []
  }
 ],
 "metadata": {
  "kernelspec": {
   "display_name": "Python 3",
   "language": "python",
   "name": "python3"
  },
  "language_info": {
   "codemirror_mode": {
    "name": "ipython",
    "version": 3
   },
   "file_extension": ".py",
   "mimetype": "text/x-python",
   "name": "python",
   "nbconvert_exporter": "python",
   "pygments_lexer": "ipython3",
   "version": "3.7.13"
  }
 },
 "nbformat": 4,
 "nbformat_minor": 5
}
